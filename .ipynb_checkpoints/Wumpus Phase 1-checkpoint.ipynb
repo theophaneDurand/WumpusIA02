{
 "cells": [
  {
   "cell_type": "markdown",
   "metadata": {},
   "source": [
    "# Organisation de la fin de semestre : Projet Wumpus\n",
    "\n",
    "\n",
    "\n",
    "Les TP de la fin du semestre sont consacrés à la réalisation d'un projet. Bien entendu, un travail personnel, en dehors des créneaux de TP, sera nécessaire pour mener à bien le projet. Ce projet se déroule en plusieurs phases, au cours desquelles les étudiants développeront de nouvelles fonctionalités à un *joueur artificiel de Wumpus* (une « IA de Wumpus »).\n",
    "\n",
    "\n",
    "## Phases du projet\n",
    "\n",
    "### Phase 1 : Cartographie\n",
    "\n",
    "Durant cette phase, le joueur se bat seul contre un environnement hostile. Son objectif est d'obtenir au moindre coût une carte complète de la région. La seule action à sa disposition est le *sondage*, qui lui permet d'envoyer une sonde sur n'importe quelle case spécifiée par ses coordonnées. Si la sonde n'est pas détruite en tombant dans une fosse ou en rencontrant le Wumpus, elle renvoie les informations concernant son environnement : présence éventuelle de brise ou d'une odeur nauséabonde. Chaque envoi de sonde a un coût, qui peut s'accompagner d'un très fort malus si la sonde est détruite. Ainsi, il est très avantageux de **déduire** des informations cartographiques, plutôt que de les recueillir directement.\n",
    "\n",
    "### Phase 2 : Expédition\n",
    "\n",
    "Durant cette phase, le joueur possède une carte complète, et doit **planifier** au mieux ses déplacements (entre des cases adjacentes) pour récupérer l'or le plus rapidement possible.\n",
    "\n",
    "### Phase 3 : Ruée vers l'or\n",
    "\n",
    "Durant cette phase **compétitive**, deux joueurs s'affrontent pour récupérer l'or.\n",
    "\n",
    "\n",
    "## Travail attendu\n",
    "\n",
    "* les étudiants travaillent par **binômes**, choisis au sein du même groupe de TP\n",
    "* durant les séances de TP inscrits à l'emploi du temps, ils peuvent bénéficier d'un soutien de leur enseignant\n",
    "* chaque phase conduit au développement d'un script qui implémente un joueur virtuel\n",
    "* l'absence de rendu ou le plagiat sont sanctionnés par une note éliminatoire pour l'UE\n"
   ]
  },
  {
   "cell_type": "markdown",
   "metadata": {},
   "source": [
    "## Phase 1 : Cartographie du monde\n",
    "\n",
    "### Objectif\n",
    "\n",
    "Durant cette phase, le joueur se bat seul contre un environnement hostile. Son objectif est d'obtenir au moindre coût une carte complète de la région.\n",
    "\n",
    "### Règles régissant le monde\n",
    "\n",
    "* la *carte* est une grille 2D de taille $N\\times N$, où $N$ est un entier supérieur ou égal à 4\n",
    "* une case est considérée adjacente aux cases avec lesquelles elle partage un côté (pas de mouvement en diagonale, les bords de la grille bloquent le mouvement)\n",
    "* il y a exactement un Wumpus sur la carte, et un certain nombre de fosses.\n",
    "* on peut trouver de l'or\n",
    "* le Wumpus pue : on peut sentir une odeur nauséabonde sur les cases adjacentes au Wumpus\n",
    "* les fosses appellent l'air : on peut ressentir une légère brise (insuffisante pour disperser l'odeur du Wumpus) sur les cases adjacentes à une fosse\n",
    "* la case (0,0) est sûre : elle ne contient ni fosse, ni Wumpus\n",
    "\n",
    "### Actions à la disposition du joueur\n",
    "\n",
    "La seule action à sa disposition est le sondage, `probe(X,Y)`, qui moyennant 10 pièces d'or permet de réaliser un rituel de divination concernant n'importe quelle case spécifiée par ses coordonnées. Si la case est occupée par le Wumpus ou par une fosse magique, le mage effectuant la divination devient fou, ce qui entraîne un coût faramineux de 1000 pièces d'or. Sinon, le mage perçoit les conditions prévalant dans cette case : présence éventuelle de brise, d'une odeur nauséabonde, scintillement de l'or. Il est ainsi très avantageux de **déduire** des informations cartographiques, plutôt que de les recueillir directement.\n",
    "\n",
    "### Implémentation\n",
    "* le module `gopherpysat` permet une interaction aisée avec un solveur SAT, sans avoir à lire ou à écrire des fichier DIMACS\n",
    "* le module `WumpusWorld` offre une version didactisée du jeu\n",
    "\n",
    "---\n",
    "\n",
    "## Phase 2 et 3 : à venir...\n",
    "\n",
    "---"
   ]
  },
  {
   "cell_type": "code",
   "execution_count": 1,
   "metadata": {},
   "outputs": [],
   "source": [
    "from lib.gopherpysat import Gophersat\n",
    "\n",
    "## Ligne à remplacer avec VOTRE emplacement et nom de l'exécutable gophersat :\n",
    "## Attention ! Sous Windows, il faut remplacer les '\\' par des '/' dans le chemin\n",
    "\n",
    "gophersat_exec = \"/home/sylvain/go/bin/gophersat\"\n",
    "gophersat_exec =\"C:/Users/Khaled/Dropbox/UTC/Enseignement/IA02 - Logique et problèmes/tp-wumpus-master/tp-wumpus-master/lib/bin/windows_amd64/gophersat-1.1\"\n",
    "\n"
   ]
  },
  {
   "cell_type": "code",
   "execution_count": 4,
   "metadata": {},
   "outputs": [
    {
     "name": "stdout",
     "output_type": "stream",
     "text": [
      "c automatically generated by gopherpysat\n",
      "p cnf 3 3\n",
      "-1 2 0\n",
      "-2 -3 0\n",
      "1 0\n",
      "\n",
      "True\n",
      "A ∧ B ∧ ¬C\n",
      "[1, 2, -3]\n"
     ]
    }
   ],
   "source": [
    "voc = [\"A\", \"B\", \"C\"]\n",
    "\n",
    "gs = Gophersat(gophersat_exec, voc)\n",
    "gs.push_pretty_clause([\"-A\", \"B\"])\n",
    "gs.push_pretty_clause([\"-B\", \"-C\"])\n",
    "gs.push_pretty_clause([\"A\"])\n",
    "print(gs.dimacs())\n",
    "print(gs.solve())\n",
    "print(gs.get_pretty_model())\n",
    "print(gs.get_model())\n"
   ]
  },
  {
   "cell_type": "code",
   "execution_count": 3,
   "metadata": {},
   "outputs": [
    {
     "name": "stdout",
     "output_type": "stream",
     "text": [
      "False\n",
      "\n"
     ]
    }
   ],
   "source": [
    "gs.push_pretty_clause([\"C\"])\n",
    "print(gs.solve())\n",
    "print(gs.get_pretty_model())"
   ]
  },
  {
   "cell_type": "code",
   "execution_count": 1,
   "metadata": {},
   "outputs": [
    {
     "name": "stdout",
     "output_type": "stream",
     "text": [
      "[['?', '?', '?', '?'], ['?', '?', '?', '?'], ['?', '?', '?', '?'], ['?', '?', '?', '?']]\n",
      "[OK] you feel B\n",
      "B\n",
      "[['?', 'B', '?', '?'], ['?', '?', '?', '?'], ['?', '?', '?', '?'], ['?', '?', '?', '?']]\n",
      "[KO] The wizard catches a glimpse of the unthinkable and turns mad\n",
      "0: .  B  P  B \n",
      "1: S  .  B  . \n",
      "2: W  GBS  P  B \n",
      "3: S  .  B  P \n",
      "\n",
      "\n",
      "===========================\n",
      "\n"
     ]
    }
   ],
   "source": [
    "from lib.wumpus2 import WumpusWorld\n",
    "\n",
    "ww = WumpusWorld()\n",
    "\n",
    "print(ww.get_knowledge())\n",
    "#print(ww.get_position())\n",
    "#print(ww.get_percepts())\n",
    "print(ww.probe(0, 1))\n",
    "#print(ww.get_percepts())\n",
    "print(ww.get_knowledge())\n",
    "print(ww.probe(0, 2))\n",
    "print(ww)\n",
    "\n",
    "print(\"\\n===========================\\n\")"
   ]
  },
  {
   "cell_type": "code",
   "execution_count": 2,
   "metadata": {},
   "outputs": [
    {
     "name": "stdout",
     "output_type": "stream",
     "text": [
      "second chance...\n",
      "\n",
      "[['?', '?', '?', '?'], ['?', '?', '?', '?'], ['?', '?', '?', '?'], ['?', '?', '?', '?']]\n",
      "[OK] you feel .\n",
      ".\n"
     ]
    }
   ],
   "source": [
    "print(\"second chance...\\n\")\n",
    "ww2 = WumpusWorld()\n",
    "print(ww2.get_knowledge())\n",
    "\n",
    "print(ww2.probe(0,0))\n"
   ]
  },
  {
   "cell_type": "code",
   "execution_count": 5,
   "metadata": {},
   "outputs": [
    {
     "name": "stdout",
     "output_type": "stream",
     "text": [
      "[OK] you feel S\n",
      "S\n"
     ]
    }
   ],
   "source": [
    "print(ww2.probe(1, 0))"
   ]
  },
  {
   "cell_type": "code",
   "execution_count": 6,
   "metadata": {},
   "outputs": [
    {
     "name": "stdout",
     "output_type": "stream",
     "text": [
      "[OK] you feel .\n",
      ".\n"
     ]
    }
   ],
   "source": [
    "print(ww2.probe(1,1))"
   ]
  },
  {
   "cell_type": "code",
   "execution_count": 7,
   "metadata": {},
   "outputs": [
    {
     "name": "stdout",
     "output_type": "stream",
     "text": [
      "[OK] you feel GBS\n",
      "GBS\n"
     ]
    }
   ],
   "source": [
    "print(ww2.probe(2,1))"
   ]
  },
  {
   "cell_type": "code",
   "execution_count": 14,
   "metadata": {},
   "outputs": [
    {
     "name": "stdout",
     "output_type": "stream",
     "text": [
      "0: .  B  P  B \n",
      "1: S  .  B  . \n",
      "2: W  GBS  P  B \n",
      "3: S  .  B  P \n",
      "\n"
     ]
    }
   ],
   "source": [
    "print(ww2)"
   ]
  }
 ],
 "metadata": {
  "kernelspec": {
   "display_name": "Python 3",
   "language": "python",
   "name": "python3"
  },
  "language_info": {
   "codemirror_mode": {
    "name": "ipython",
    "version": 3
   },
   "file_extension": ".py",
   "mimetype": "text/x-python",
   "name": "python",
   "nbconvert_exporter": "python",
   "pygments_lexer": "ipython3",
   "version": "3.7.6"
  }
 },
 "nbformat": 4,
 "nbformat_minor": 4
}
